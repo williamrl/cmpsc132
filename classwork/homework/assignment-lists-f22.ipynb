{
 "cells": [
  {
   "cell_type": "code",
   "execution_count": null,
   "metadata": {},
   "outputs": [],
   "source": []
  },
  {
   "attachments": {},
   "cell_type": "markdown",
   "metadata": {},
   "source": [
    "### Doubly Linked List\n",
    "\n",
    "The purpose of this assignment is to make you familiar with implementing a data structure in Python in an object oriented way.\n",
    "During lectures we implemented a few simple linear data structres: queue, list, deques, stacks. Now we expect you to implement one of these structures yourself.\n",
    "\n",
    "You are provided with two classes: **Node** and **DoublyLinkedList**. The first one is already implemented (you don't need to modify it), the second one consist only a structure of empty methods defined. Your task is to come up with an implementation of these methods.\n",
    "\n",
    "_Note_: If a list is doubly linked, each node contains a reference to the _previous_ node in the chain and a reference to the _next_ node.\n",
    "\n",
    "You are expected to implement every function in DoublyLinkedList. Including the *next()* function, which is used by an iterator object in python. The *map(func)* function applies a function to every element in the list.\n",
    "All other functions are available in the PSADS book."
   ]
  },
  {
   "attachments": {},
   "cell_type": "markdown",
   "metadata": {},
   "source": [
    "## Constructing a Doubly Linked List\n",
    "\n",
    "The **Node** class implementation is already given:"
   ]
  },
  {
   "cell_type": "code",
   "execution_count": 9,
   "metadata": {
    "collapsed": true
   },
   "outputs": [],
   "source": [
    "class Node(object):\n",
    "    \"\"\"Doubly linked node which stores an object\"\"\"\n",
    "\n",
    "    def __init__(self, element, next_node=None, previous_node=None):\n",
    "        # The underscores are to prevent overwriting the variables if inherited and prevents access from outside of scope\n",
    "        self.__element = element\n",
    "        self.__next_node = next_node\n",
    "        self.__previous_node = previous_node\n",
    "\n",
    "    def get_element(self):\n",
    "        \"\"\"Returns the element stored in this node\"\"\"\n",
    "        return self.__element\n",
    "\n",
    "    def get_previous(self):\n",
    "        \"\"\"Returns the previous linked node\"\"\"\n",
    "        return self.__previous_node\n",
    "\n",
    "    def get_next(self):\n",
    "        \"\"\"Returns the next linked node\"\"\"\n",
    "        return self.__next_node\n",
    "\n",
    "    def set_element(self, element):\n",
    "        \"\"\"Sets the element stored in this node\"\"\"\n",
    "        self.__element = element\n",
    "\n",
    "    def set_previous(self, previous_node):\n",
    "        \"\"\"Sets the previous linked node\"\"\"\n",
    "        self.__previous_node = previous_node\n",
    "\n",
    "    def set_next(self, next_node):\n",
    "        \"\"\"Sets the next linked node\"\"\"\n",
    "        self.__next_node = next_node\n",
    "    \n",
    "    def __repr__(self):\n",
    "        return str((self.__element, self.get_next()))"
   ]
  },
  {
   "cell_type": "code",
   "execution_count": 7,
   "metadata": {},
   "outputs": [
    {
     "name": "stdout",
     "output_type": "stream",
     "text": [
      "[0, 1, 2, 3, 4, 5, 6, 7]\n"
     ]
    },
    {
     "data": {
      "text/plain": [
       "[1, 2, 3, 4, 5, 6, 7, 8]"
      ]
     },
     "execution_count": 7,
     "metadata": {},
     "output_type": "execute_result"
    }
   ],
   "source": [
    "# numbs = list(range(8))\n",
    "# print(numbs)\n",
    "\n",
    "# def add_one(x):\n",
    "#     return x + 1\n",
    "\n",
    "# list(map(add_one, numbs))\n",
    "# list(map(lambda x: x + 1, numbs))"
   ]
  },
  {
   "attachments": {},
   "cell_type": "markdown",
   "metadata": {},
   "source": [
    "The following code snippet is a constructor provided by the **DoublyLinkedList** Python class for the creation of a new doubly linked list. **Extend the snippet below with your implementation of the DoublyLinkedList**. "
   ]
  },
  {
   "cell_type": "code",
   "execution_count": 21,
   "metadata": {
    "collapsed": true
   },
   "outputs": [],
   "source": [
    "class DoublyLinkedList(object):\n",
    "    \"\"\"Doubly linked node data structure\"\"\"\n",
    "    def __init__(self):\n",
    "        self.__size = 0\n",
    "        self.__header = Node('Header')\n",
    "        self.__trailer = Node('Trailer')\n",
    "        self.__header.set_next(self.__trailer)\n",
    "        self.__trailer.set_previous(self.__header)\n",
    "        self.__current = None\n",
    "\n",
    "    \n",
    "    def __repr__(self):\n",
    "        \"\"\"This needs to work in order to pass the assertions below\"\"\"\n",
    "        out = '('\n",
    "        node = self.__header.get_next()\n",
    "        for i in range(self.__size): \n",
    "            out += f\"({node.get_element()}), \"\n",
    "            node = node.get_next()    \n",
    "        return out[:-2]+')'\n",
    "\n",
    "    def __iter__(self):\n",
    "        \"\"\"Standard python iterator method\"\"\"\n",
    "        pass\n",
    "    def __next__(self):\n",
    "        \"\"\"Standard python iterator method\"\"\"\n",
    "        return self.__next_node\n",
    "    def map(self, function):\n",
    "        \"\"\"Run function on every element in the list\"\"\"\n",
    "        pass\n",
    "    def size(self):\n",
    "        \"\"\"Returns the number of elements in the list\"\"\"\n",
    "        # return self.size() == 0\n",
    "        pass\n",
    "    def is_empty(self):\n",
    "        \"\"\"Returns the number of elements in the list\"\"\"\n",
    "        pass\n",
    "    def get_first(self):\n",
    "        \"\"\"Get the first element of the list\"\"\"\n",
    "        node = self.__header.get_next()\n",
    "        if node.get_element() != \"Trailer\":\n",
    "            return node\n",
    "    def get_last(self):\n",
    "        \"\"\"Get the last element of the list\"\"\"\n",
    "        node = self.__header.get_previous()\n",
    "        if node.get_element() != \"Header\":\n",
    "            return node\n",
    "    def get_previous(self, node):\n",
    "        \"\"\"Returns the node before the given node\"\"\"\n",
    "        prev = node.get_previous()\n",
    "        if prev.get_element != \"Header\":\n",
    "            return prev\n",
    "    def get_next(self, node):\n",
    "        \"\"\"Returns the node after the given node\"\"\"\n",
    "        return self.__next_node\n",
    "    def add_before(self, new, existing):\n",
    "        \"\"\"Insert the new before existing\"\"\"\n",
    "        prev = existing.get_previous()\n",
    "        existing.set_previous(new)\n",
    "        new.set_previous(prev)\n",
    "        new.get_previous().set_next(new)\n",
    "        new.set_next(existing)\n",
    "        self.__size += 1\n",
    "    def add_after(self, new, existing):\n",
    "        \"\"\"Insert the new after existing\"\"\"\n",
    "        pass\n",
    "    def add_first(self, new):\n",
    "        \"\"\"Insert the node at the head of the list\"\"\"\n",
    "    def add_last(self, new):\n",
    "        \"\"\"Insert the node at the tail of the list\"\"\"\n",
    "        self.add_before(new, self.__trailer)\n",
    "    \n",
    "    def remove(self, node):\n",
    "        \"\"\"Remove the given node from the list\"\"\"\n",
    "        prev = node.get_previous()\n",
    "        nnode = node.get_next()\n",
    "        prev.set_next(nnode)\n",
    "        nnode.set_previous(prev)\n",
    "        self.__size -= 1\n",
    "        del node"
   ]
  },
  {
   "attachments": {},
   "cell_type": "markdown",
   "metadata": {},
   "source": [
    "**Task 1 (5 points)**: Using the constructor from the **DoublyLinkedList**, create a new doubly linked list of integers between 0 and 3."
   ]
  },
  {
   "cell_type": "code",
   "execution_count": 20,
   "metadata": {
    "collapsed": true
   },
   "outputs": [
    {
     "name": "stdout",
     "output_type": "stream",
     "text": [
      "((0), (1), (2), (3))\n"
     ]
    }
   ],
   "source": [
    "dL = DoublyLinkedList()\n",
    "\n",
    "for i in range(4):\n",
    "    dL.add_last(Node(i))\n",
    "\n",
    "print(dL)\n",
    "\n",
    "# assert str(dL) == f\"((0), (1), (2), (3))\""
   ]
  },
  {
   "cell_type": "code",
   "execution_count": 18,
   "metadata": {},
   "outputs": [
    {
     "data": {
      "text/plain": [
       "(0, (1, (2, (3, ('Trailer', None)))))"
      ]
     },
     "execution_count": 18,
     "metadata": {},
     "output_type": "execute_result"
    }
   ],
   "source": [
    "dL.get_first()"
   ]
  },
  {
   "attachments": {},
   "cell_type": "markdown",
   "metadata": {},
   "source": [
    "## Using a Doubly Linked List\n",
    "\n",
    "The given **DoublyLinkedList** Python class\n",
    "contains helpful methods for using a doubly linked list.\n",
    "Answer the following questions while implementing\n",
    "the methods of the **DoublyLinkedList** class.\n",
    "\n",
    "**Task 2 (10 points)**: Implement the `size` method that returns the size of a doubly linked list.\n",
    "\n"
   ]
  },
  {
   "cell_type": "code",
   "execution_count": 22,
   "metadata": {
    "collapsed": true
   },
   "outputs": [
    {
     "name": "stdout",
     "output_type": "stream",
     "text": [
      "None\n"
     ]
    },
    {
     "ename": "AssertionError",
     "evalue": "",
     "output_type": "error",
     "traceback": [
      "\u001b[1;31m---------------------------------------------------------------------------\u001b[0m",
      "\u001b[1;31mAssertionError\u001b[0m                            Traceback (most recent call last)",
      "\u001b[1;32mc:\\Users\\Mach6\\Documents\\cmpsc132\\cmpsc132\\assignment-lists-f22.ipynb Cell 12\u001b[0m line \u001b[0;36m3\n\u001b[0;32m      <a href='vscode-notebook-cell:/c%3A/Users/Mach6/Documents/cmpsc132/cmpsc132/assignment-lists-f22.ipynb#X13sZmlsZQ%3D%3D?line=0'>1</a>\u001b[0m \u001b[39m#Test your implementation here\u001b[39;00m\n\u001b[0;32m      <a href='vscode-notebook-cell:/c%3A/Users/Mach6/Documents/cmpsc132/cmpsc132/assignment-lists-f22.ipynb#X13sZmlsZQ%3D%3D?line=1'>2</a>\u001b[0m \u001b[39mprint\u001b[39m(dL\u001b[39m.\u001b[39msize())\n\u001b[1;32m----> <a href='vscode-notebook-cell:/c%3A/Users/Mach6/Documents/cmpsc132/cmpsc132/assignment-lists-f22.ipynb#X13sZmlsZQ%3D%3D?line=2'>3</a>\u001b[0m \u001b[39massert\u001b[39;00m dL\u001b[39m.\u001b[39msize() \u001b[39m==\u001b[39m \u001b[39m4\u001b[39m\n",
      "\u001b[1;31mAssertionError\u001b[0m: "
     ]
    }
   ],
   "source": [
    "#Test your implementation here\n",
    "print(dL.size())\n",
    "assert dL.size() == 4"
   ]
  },
  {
   "attachments": {},
   "cell_type": "markdown",
   "metadata": {},
   "source": [
    "**Task 3 (5 points)**: Implement the `is_empty` method that checks\n",
    "whether a doubly linked list is empty.\n",
    "\n"
   ]
  },
  {
   "cell_type": "code",
   "execution_count": null,
   "metadata": {
    "collapsed": true
   },
   "outputs": [
    {
     "name": "stdout",
     "output_type": "stream",
     "text": [
      "False\n",
      "True\n"
     ]
    }
   ],
   "source": [
    "#Test your implementation here\n",
    "print(dL.is_empty())\n",
    "\n",
    "dL2 = DoublyLinkedList()\n",
    "print(dL2.is_empty())\n",
    "\n",
    "\n",
    "assert dL.is_empty() == False\n",
    "assert dL2.is_empty() == True\n",
    "del dL2"
   ]
  },
  {
   "attachments": {},
   "cell_type": "markdown",
   "metadata": {},
   "source": [
    "**T4 (10 points)**: Implement the methods `get_first` and `get_last`\n",
    "to get the first and the last element of the list, respectively.\n",
    "\n",
    "_Hint_: Return an exception in case the list is empty.\n"
   ]
  },
  {
   "cell_type": "code",
   "execution_count": null,
   "metadata": {
    "collapsed": true
   },
   "outputs": [
    {
     "name": "stdout",
     "output_type": "stream",
     "text": [
      "(0, (1, (2, (3, ('Trailer', None)))))\n",
      "(3, ('Trailer', None))\n"
     ]
    }
   ],
   "source": [
    "#Test your implementation here\n",
    "print(dL.get_first())\n",
    "print(dL.get_last())\n",
    "\n",
    "assert str(dL.get_first()) == f\"(0, (1, (2, (3, ('Trailer', None)))))\"\n",
    "assert str(dL.get_last()) == f\"(3, ('Trailer', None))\""
   ]
  },
  {
   "attachments": {},
   "cell_type": "markdown",
   "metadata": {},
   "source": [
    "**Task 5 (10 points)**: Implement the methods `get_previous` and `get_next`\n",
    "to get the previous and the next node of the list, respectively.\n",
    "\n",
    "_Hint_: Return an exception in case the list is empty.\n"
   ]
  },
  {
   "cell_type": "code",
   "execution_count": null,
   "metadata": {
    "collapsed": true
   },
   "outputs": [
    {
     "name": "stdout",
     "output_type": "stream",
     "text": [
      "(2, (3, ('Trailer', None)))\n",
      "(1, (2, (3, ('Trailer', None))))\n"
     ]
    }
   ],
   "source": [
    "#Test your implementation here\n",
    "print(dL.get_last().get_previous())\n",
    "print(dL.get_first().get_next())\n",
    "\n",
    "assert str(dL.get_last().get_previous()) == \"(2, (3, ('Trailer', None)))\"\n",
    "assert str(dL.get_first().get_next()) == \"(1, (2, (3, ('Trailer', None))))\"\n"
   ]
  },
  {
   "attachments": {},
   "cell_type": "markdown",
   "metadata": {},
   "source": [
    "**Task 6(10 points)**: Implement the methods `add_before` and `add_after`\n",
    "to respectively insert new elements before and after a node of the list.\n"
   ]
  },
  {
   "cell_type": "code",
   "execution_count": null,
   "metadata": {
    "collapsed": true
   },
   "outputs": [
    {
     "name": "stdout",
     "output_type": "stream",
     "text": [
      "((0), (42), (1), (2), (34), (3))\n"
     ]
    }
   ],
   "source": [
    "#Test your implementation here\n",
    "dL.add_after(Node(42),dL.get_first())\n",
    "dL.add_before(Node(34),dL.get_last())\n",
    "\n",
    "print(dL)\n",
    "assert str(dL) == f\"((0), (42), (1), (2), (34), (3))\""
   ]
  },
  {
   "attachments": {},
   "cell_type": "markdown",
   "metadata": {},
   "source": [
    "**Task 7 (10 points)**: Implement the methods `add_first` and `add_last`\n",
    "to respectively insert new nodes in the beginning and in the end of a list.\n"
   ]
  },
  {
   "cell_type": "code",
   "execution_count": null,
   "metadata": {
    "collapsed": true
   },
   "outputs": [
    {
     "name": "stdout",
     "output_type": "stream",
     "text": [
      "((7), (0), (42), (1), (2), (34), (3), (-1))\n"
     ]
    },
    {
     "ename": "AssertionError",
     "evalue": "",
     "output_type": "error",
     "traceback": [
      "\u001b[1;31m---------------------------------------------------------------------------\u001b[0m",
      "\u001b[1;31mAssertionError\u001b[0m                            Traceback (most recent call last)",
      "\u001b[1;32m<ipython-input-53-48b48e3af53a>\u001b[0m in \u001b[0;36m<module>\u001b[1;34m\u001b[0m\n\u001b[0;32m      3\u001b[0m \u001b[0mdL\u001b[0m\u001b[1;33m.\u001b[0m\u001b[0madd_last\u001b[0m\u001b[1;33m(\u001b[0m\u001b[0mNode\u001b[0m\u001b[1;33m(\u001b[0m\u001b[1;33m-\u001b[0m\u001b[1;36m1\u001b[0m\u001b[1;33m)\u001b[0m\u001b[1;33m)\u001b[0m\u001b[1;33m\u001b[0m\u001b[1;33m\u001b[0m\u001b[0m\n\u001b[0;32m      4\u001b[0m \u001b[0mprint\u001b[0m\u001b[1;33m(\u001b[0m\u001b[0mdL\u001b[0m\u001b[1;33m)\u001b[0m\u001b[1;33m\u001b[0m\u001b[1;33m\u001b[0m\u001b[0m\n\u001b[1;32m----> 5\u001b[1;33m \u001b[1;32massert\u001b[0m \u001b[0mstr\u001b[0m\u001b[1;33m(\u001b[0m\u001b[0mdL\u001b[0m\u001b[1;33m)\u001b[0m \u001b[1;33m==\u001b[0m \u001b[1;34m\"(7, (0, (42, (1, (2, (34, (3, (-1, ('Trailer', None)))))))))\"\u001b[0m\u001b[1;33m\u001b[0m\u001b[1;33m\u001b[0m\u001b[0m\n\u001b[0m",
      "\u001b[1;31mAssertionError\u001b[0m: "
     ]
    }
   ],
   "source": [
    "#Test your implementation here\n",
    "dL.add_first(Node(7))\n",
    "dL.add_last(Node(-1))\n",
    "print(dL)\n",
    "assert str(dL) == \"((7), (0), (42), (1), (2), (34), (3), (-1))\""
   ]
  },
  {
   "attachments": {},
   "cell_type": "markdown",
   "metadata": {},
   "source": [
    "**Task 8 (10 points)**: Implement the method `remove` to remove\n",
    "a node from a list.\n"
   ]
  },
  {
   "cell_type": "code",
   "execution_count": null,
   "metadata": {
    "collapsed": true
   },
   "outputs": [
    {
     "name": "stdout",
     "output_type": "stream",
     "text": [
      "(0, (42, (1, (2, (34, (3, (-1, ('Trailer', None))))))))\n"
     ]
    }
   ],
   "source": [
    "#Test your implementation here\n",
    "dL.remove(dL.get_first())\n",
    "print(dL.get_first())\n",
    "\n",
    "assert dL.get_first().get_element() == 0"
   ]
  },
  {
   "attachments": {},
   "cell_type": "markdown",
   "metadata": {},
   "source": [
    "**Task 9 (10 points)**: Implement the method `map` to apply a function on\n",
    "each element of a list."
   ]
  },
  {
   "cell_type": "code",
   "execution_count": null,
   "metadata": {
    "collapsed": true
   },
   "outputs": [
    {
     "name": "stdout",
     "output_type": "stream",
     "text": [
      "((0), (1764), (1), (4), (1156), (9), (1))\n"
     ]
    },
    {
     "ename": "AssertionError",
     "evalue": "",
     "output_type": "error",
     "traceback": [
      "\u001b[1;31m---------------------------------------------------------------------------\u001b[0m",
      "\u001b[1;31mAssertionError\u001b[0m                            Traceback (most recent call last)",
      "\u001b[1;32m<ipython-input-55-2aefd2b6cdde>\u001b[0m in \u001b[0;36m<module>\u001b[1;34m\u001b[0m\n\u001b[0;32m      4\u001b[0m \u001b[0mprint\u001b[0m\u001b[1;33m(\u001b[0m\u001b[0mdL\u001b[0m\u001b[1;33m)\u001b[0m\u001b[1;33m\u001b[0m\u001b[1;33m\u001b[0m\u001b[0m\n\u001b[0;32m      5\u001b[0m \u001b[1;33m\u001b[0m\u001b[0m\n\u001b[1;32m----> 6\u001b[1;33m \u001b[1;32massert\u001b[0m \u001b[0mstr\u001b[0m\u001b[1;33m(\u001b[0m\u001b[0mdL\u001b[0m\u001b[1;33m)\u001b[0m \u001b[1;33m==\u001b[0m \u001b[1;34m\"(0, (1764, (1, (4, (1156, (9, (1, ('Trailer', None))))))))\"\u001b[0m\u001b[1;33m\u001b[0m\u001b[1;33m\u001b[0m\u001b[0m\n\u001b[0m",
      "\u001b[1;31mAssertionError\u001b[0m: "
     ]
    }
   ],
   "source": [
    "#Test your implementation here\n",
    "### USE THE MAP FUNCTION HERE\n",
    "\n",
    "print(dL)\n",
    "\n",
    "assert str(dL) == \"((0), (1764), (1), (4), (1156), (9), (1))\""
   ]
  },
  {
   "attachments": {},
   "cell_type": "markdown",
   "metadata": {},
   "source": [
    "**Task 10 (10 points)**: Implement the method `next` to iterate the elements\n",
    "of a list.\n",
    "\n"
   ]
  },
  {
   "cell_type": "code",
   "execution_count": null,
   "metadata": {
    "collapsed": true
   },
   "outputs": [
    {
     "name": "stdout",
     "output_type": "stream",
     "text": [
      "0\n",
      "1764\n",
      "1\n",
      "4\n",
      "1156\n",
      "9\n",
      "1\n"
     ]
    },
    {
     "data": {
      "text/plain": [
       "((0), (1764), (1), (4), (1156), (9), (1))"
      ]
     },
     "execution_count": 57,
     "metadata": {},
     "output_type": "execute_result"
    }
   ],
   "source": [
    "#Test your implementation here\n",
    "for node in dL: \n",
    "    print(node.get_element())    \n",
    "\n",
    "dL"
   ]
  },
  {
   "attachments": {},
   "cell_type": "markdown",
   "metadata": {},
   "source": [
    "\n",
    "## Applying methods of the DoublyLinkedList and Node classes\n",
    "\n",
    "Answer the following questions by using\n",
    "the implemented methods from the Node and DoublyLinkedList classes.\n",
    "Apply your operations on the list you created in T1."
   ]
  },
  {
   "attachments": {},
   "cell_type": "markdown",
   "metadata": {},
   "source": [
    "**Task 11 (5 points)**: Add 10 to each element of the list of integers in the twenties.\n",
    "\n",
    "_Hint_: Use the methods `map`."
   ]
  },
  {
   "cell_type": "code",
   "execution_count": null,
   "metadata": {
    "collapsed": true
   },
   "outputs": [
    {
     "name": "stdout",
     "output_type": "stream",
     "text": [
      "((30), (31), (32), (33), (34), (35), (36), (37), (38), (39))\n"
     ]
    }
   ],
   "source": [
    "# WRITE YOUR CODE HERE\n",
    "print(twenties)\n",
    "assert str(twenties) == \"((20), (21), (22), (23), (24), (25), (26), (27), (28), (29))\"\n",
    "\n",
    "##Write more code here to change the DLL\n",
    "\n",
    "print(twenties)\n",
    "assert str(twenties) ==\"((30), (31), (32), (33), (34), (35), (36), (37), (38), (39))\""
   ]
  },
  {
   "attachments": {},
   "cell_type": "markdown",
   "metadata": {},
   "source": [
    "\n",
    "**Task 12 (5 points)**: Multiply each element of the list of integers in the twenties by 5.\n",
    "\n",
    "_Hint_: Use the methods `map`, `get_previous`, and `set_element`."
   ]
  },
  {
   "cell_type": "code",
   "execution_count": null,
   "metadata": {
    "collapsed": true
   },
   "outputs": [
    {
     "name": "stdout",
     "output_type": "stream",
     "text": [
      "((100), (105), (110), (115), (120), (125), (130), (135), (140), (145))\n"
     ]
    }
   ],
   "source": [
    "# your code here\n",
    "print(twentyBy5)\n",
    "assert str(twentyBy5) == \"((100), (105), (110), (115), (120), (125), (130), (135), (140), (145))\""
   ]
  },
  {
   "attachments": {},
   "cell_type": "markdown",
   "metadata": {},
   "source": [
    "\n",
    "**Task 13 (5 points)**: Remove elements that are multiples of 4.\n",
    "\n",
    "_Hint_: Use the methods `next` and `remove`."
   ]
  },
  {
   "cell_type": "code",
   "execution_count": null,
   "metadata": {
    "collapsed": true
   },
   "outputs": [
    {
     "name": "stdout",
     "output_type": "stream",
     "text": [
      "(110, (115, (125, (130, (135, (145, ('Trailer', None)))))))\n",
      "(115, (125, (130, (135, (145, ('Trailer', None))))))\n",
      "(125, (130, (135, (145, ('Trailer', None)))))\n",
      "(130, (135, (145, ('Trailer', None))))\n",
      "(135, (145, ('Trailer', None)))\n",
      "(145, ('Trailer', None))\n",
      "('Trailer', None)\n"
     ]
    }
   ],
   "source": [
    "# Your code here\n",
    "\n",
    "assert str(twentyBy5) == '((105), (110), (115), (125), (130), (135), (145))'"
   ]
  },
  {
   "attachments": {},
   "cell_type": "markdown",
   "metadata": {},
   "source": [
    "\n",
    "**Task 14 (5 points)**: Remove elements from the list that are odd numbers. \n",
    "\n",
    "_Hint_: Use the methods `get_previous` and `remove`."
   ]
  },
  {
   "cell_type": "code",
   "execution_count": null,
   "metadata": {
    "collapsed": true
   },
   "outputs": [],
   "source": [
    "# Your code here\n",
    "assert str(twentyBy5) == '((110), (130))'"
   ]
  },
  {
   "attachments": {},
   "cell_type": "markdown",
   "metadata": {},
   "source": [
    "## Proving performance properties\n",
    "\n",
    "**T15 (5 points)**: Prove when the complexity to delete a node in a doubly linked list is $O(1)$\n",
    "and $O(n)$."
   ]
  },
  {
   "cell_type": "raw",
   "metadata": {},
   "source": []
  }
 ],
 "metadata": {
  "kernelspec": {
   "display_name": "Python 3.7.6 ('base')",
   "language": "python",
   "name": "python3"
  },
  "language_info": {
   "codemirror_mode": {
    "name": "ipython",
    "version": 3
   },
   "file_extension": ".py",
   "mimetype": "text/x-python",
   "name": "python",
   "nbconvert_exporter": "python",
   "pygments_lexer": "ipython3",
   "version": "3.11.0"
  },
  "vscode": {
   "interpreter": {
    "hash": "ad2bdc8ecc057115af97d19610ffacc2b4e99fae6737bb82f5d7fb13d2f2c186"
   }
  }
 },
 "nbformat": 4,
 "nbformat_minor": 2
}
