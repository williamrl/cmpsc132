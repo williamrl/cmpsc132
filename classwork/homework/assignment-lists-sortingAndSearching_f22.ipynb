{
 "cells": [
  {
   "cell_type": "code",
   "execution_count": null,
   "metadata": {},
   "outputs": [],
   "source": []
  },
  {
   "cell_type": "markdown",
   "metadata": {},
   "source": [
    "### Doubly Linked List\n",
    "\n",
    "We have previously developed a doubly linked list in an object oriented way. A proper implementation is found below, but feel free to use the code you wrote instead of mine. \n",
    "\n",
    "The code needs to be extended to have Class functions that will search for values and also will sort the values."
   ]
  },
  {
   "cell_type": "markdown",
   "metadata": {},
   "source": [
    "## Constructing a Doubly Linked List\n",
    "\n",
    "The **Node** and **Doubly Linked List** class implementations are given:"
   ]
  },
  {
   "cell_type": "code",
   "execution_count": null,
   "metadata": {
    "collapsed": true
   },
   "outputs": [],
   "source": [
    "class Node(object):\n",
    "    \"\"\"Doubly linked node which stores an object\"\"\"\n",
    "\n",
    "    def __init__(self, element, next_node=None, previous_node=None):\n",
    "        # The underscores are to prevent overwriting the variables if inherited and prevents access from outside of scope\n",
    "        self.__element = element\n",
    "        self.__next_node = next_node\n",
    "        self.__previous_node = previous_node\n",
    "\n",
    "    def get_element(self):\n",
    "        \"\"\"Returns the element stored in this node\"\"\"\n",
    "        return self.__element\n",
    "\n",
    "    def get_previous(self):\n",
    "        \"\"\"Returns the previous linked node\"\"\"\n",
    "        return self.__previous_node\n",
    "\n",
    "    def get_next(self):\n",
    "        \"\"\"Returns the next linked node\"\"\"\n",
    "        return self.__next_node\n",
    "\n",
    "    def set_element(self, element):\n",
    "        \"\"\"Sets the element stored in this node\"\"\"\n",
    "        self.__element = element\n",
    "\n",
    "    def set_previous(self, previous_node):\n",
    "        \"\"\"Sets the previous linked node\"\"\"\n",
    "        self.__previous_node = previous_node\n",
    "\n",
    "    def set_next(self, next_node):\n",
    "        \"\"\"Sets the next linked node\"\"\"\n",
    "        self.__next_node = next_node\n",
    "    \n",
    "    def __str__(self):\n",
    "        return str(self.__element)\n",
    "\n",
    "class DoublyLinkedList(object):\n",
    "    \"\"\"Doubly linked node data structure\"\"\"\n",
    "\n",
    "    def __init__(self):\n",
    "        self.__size = 0\n",
    "        self.__header = Node('Header')\n",
    "        self.__trailer = Node('Trailer')\n",
    "        self.__header.set_next(self.__trailer)\n",
    "        self.__trailer.set_previous(self.__header)\n",
    "        self.__current = None\n",
    "\n",
    "    def __repr__(self):\n",
    "        if not self.is_empty():\n",
    "            out = f'('\n",
    "            for node in self:\n",
    "                out += f\"({node.get_element()}), \"\n",
    "            out = out[:-2]\n",
    "            out += ')'\n",
    "        else:\n",
    "            out = 'Empty List'\n",
    "        return out\n",
    "    def __iter__(self):\n",
    "        self.__current = None\n",
    "        return self\n",
    "\n",
    "    def __next__(self):\n",
    "        \"\"\"Standard python iterator method\"\"\"\n",
    "        if self.is_empty() or self.__current == self.__trailer:\n",
    "            raise StopIteration()\n",
    "        elif self.__current is None:\n",
    "            self.__current = self.__header\n",
    "        self.__current = self.__current.get_next()\n",
    "        if self.__current != self.__trailer:\n",
    "            return self.__current \n",
    "        else:\n",
    "            raise StopIteration()\n",
    "\n",
    "    def map(self, function):\n",
    "        \"\"\"Run function on every element in the list\"\"\"\n",
    "        for node in self:\n",
    "            if node != self.__trailer and node != self.__header:\n",
    "                node.set_element(function(node.get_element()))\n",
    "\n",
    "    def size(self):\n",
    "        \"\"\"Returns the number of elements in the list\"\"\"\n",
    "        return self.__size\n",
    "\n",
    "    def is_empty(self):\n",
    "        \"\"\"Returns the number of elements in the list\"\"\"\n",
    "        return self.__size == 0\n",
    "\n",
    "    def get_first(self):\n",
    "        \"\"\"Get the first element of the list\"\"\"\n",
    "        if self.is_empty():\n",
    "            raise Exception(\"List is empty\")\n",
    "        else:\n",
    "            return self.__header.get_next()\n",
    "\n",
    "    def get_last(self):\n",
    "        \"\"\"Get the last element of the list\"\"\"\n",
    "        if self.is_empty():\n",
    "            raise Exception(\"List is empty\")\n",
    "        else:\n",
    "            return self.__trailer.get_previous()\n",
    "\n",
    "    def get_previous(self, node):\n",
    "        \"\"\"Returns the node before the given node\"\"\"\n",
    "        if node == self.__header:\n",
    "            raise Exception(\"Cannot get the element before the header of this list\")\n",
    "        else:\n",
    "            return node.get_previous()\n",
    "\n",
    "    def get_next(self, node):\n",
    "        \"\"\"Returns the node after the given node\"\"\"\n",
    "        if node == self.__trailer:\n",
    "            raise Exception(\"Cannot get the element after the trailer of this list\")\n",
    "        else:\n",
    "            return node.get_next()\n",
    "\n",
    "    def add_before(self, new, existing):\n",
    "        \"\"\"Insert the new before existing\"\"\"\n",
    "        previous_existing = self.get_previous(existing)\n",
    "        new.set_previous(previous_existing)\n",
    "        new.set_next(existing)\n",
    "        existing.set_previous(new)\n",
    "        previous_existing.set_next(new)\n",
    "        self.__size += 1\n",
    "\n",
    "    def add_after(self, new, existing):\n",
    "        \"\"\"Insert the new after existing\"\"\"\n",
    "        next_existing = self.get_next(existing)\n",
    "        new.set_previous(existing)\n",
    "        new.set_next(next_existing)\n",
    "        existing.set_next(new)\n",
    "        next_existing.set_previous(new)\n",
    "        self.__size += 1\n",
    "\n",
    "    def add_first(self, new):\n",
    "        \"\"\"Insert the node at the head of the list\"\"\"\n",
    "        self.add_after(new, self.__header)\n",
    "\n",
    "    def add_last(self, new):\n",
    "        \"\"\"Insert the node at the tail of the list\"\"\"\n",
    "        self.add_before(new, self.__trailer)\n",
    "\n",
    "    def remove(self, node):\n",
    "        \"\"\"Removes the given node from the list\"\"\"\n",
    "        before = self.get_previous(node)\n",
    "        after = self.get_next(node)\n",
    "        before.set_next(after)\n",
    "        after.set_previous(before)\n",
    "        node.set_next(None)\n",
    "        node.set_previous(None)\n",
    "        self.__size -= 1\n",
    "    \n",
    "    def sequential_search(self,value):\n",
    "        \"\"\"Finds the value in the list and returns the node\"\"\"\n",
    "        for node in self:\n",
    "            node.get_element() == value\n",
    "            return node\n",
    "\n",
    "    def binary_search(self,value):\n",
    "        \"\"\"Implementation of a binary search for a value, also returns the node\"\"\"\n",
    "        #HINT: REQUIRES THE LIST TO BE SORTED!\n",
    "        pass\n",
    "\n",
    "    def bubble_sort(self):\n",
    "        pass\n",
    "    \n",
    "    def selection_sort(self):\n",
    "        pass\n",
    "    \n",
    "    def insertion_sort(self):\n",
    "        pass\n",
    "    \n",
    "    def shell_sort(self):\n",
    "        pass\n",
    "    \n",
    "    def merge_sort(self):\n",
    "        pass\n",
    "    \n",
    "    def quick_sort(self):\n",
    "        pass   \n"
   ]
  },
  {
   "cell_type": "markdown",
   "metadata": {},
   "source": [
    "**Task 1 (25 points)**: Implement a sequential search and show the implementation works."
   ]
  },
  {
   "cell_type": "code",
   "execution_count": null,
   "metadata": {
    "collapsed": true
   },
   "outputs": [],
   "source": [
    "from numpy import random\n",
    "\n",
    "dL = DoublyLinkedList()\n",
    "for i in range(1,21,2):\n",
    "    dL.add_last(Node(i))\n",
    "print(dL)\n",
    "\n",
    "#The code below is broken - make it work\n",
    "node12 = dL.sequential_search(12)\n",
    "print(node12)"
   ]
  },
  {
   "cell_type": "markdown",
   "metadata": {},
   "source": [
    "**Task 2 (25 points)**: A Faster Search\n",
    "\n",
    "A **binary search** should return the node which has a value faster than the above sequential search. \n",
    "\n",
    "Implement a **binary search** and run it on the ***Doubly Linked List*** created.\n"
   ]
  },
  {
   "cell_type": "code",
   "execution_count": null,
   "metadata": {
    "collapsed": true
   },
   "outputs": [],
   "source": [
    "#Test your implementation here\n",
    "#The code below is broken - make it work\n",
    "node15= dL.binary_search(15)\n",
    "print(node15)"
   ]
  },
  {
   "cell_type": "markdown",
   "metadata": {},
   "source": [
    "**Task 4 (50 points)**: Implement the two of the following sorting methods <br>\n",
    "`Bubble Sort`, `The Selection Sort`, `The Insertion Sort`, `The Shell Sort`,<br>\n",
    "`The Merge Sort`, or `The Quick Sort`\n",
    "\n",
    "If you did not like your grade on the previous ** Doubly Linked List** assignment, <br>\n",
    "I will neglect that grade and count this assignment twice if you successfully implement the `Merge Sort` or `Quick Sort` algorithm(s). "
   ]
  },
  {
   "cell_type": "code",
   "execution_count": null,
   "metadata": {
    "collapsed": true
   },
   "outputs": [],
   "source": [
    "#Test your implementation here\n",
    "#do a sort here\n",
    "dL.first_sort()\n",
    "for n in dL:\n",
    "    print(n)\n",
    "\n",
    "# Reset your list and add in random values again\n",
    "dL = DoublyLinkedList()\n",
    "\n",
    "#do a different sort here\n",
    "dL.second_sort()\n",
    "for n in dL:\n",
    "    print(n)"
   ]
  },
  {
   "cell_type": "markdown",
   "metadata": {},
   "source": [
    "**Task -1(Alternative Way to Do this assignment)**: \n",
    "\n",
    "Is the Doubly Linked List being a pain and you are having trouble getting the searches and sorts to work? \n",
    "\n",
    "If you use a Linked List (singly?) to do all of the above tasks I will also accept this as a proper solution. But you must implement either the '`MERGE SORT` or `QUICK SORT` divide and conquer algos (+10 to do both). "
   ]
  },
  {
   "cell_type": "markdown",
   "metadata": {},
   "source": []
  }
 ],
 "metadata": {
  "kernelspec": {
   "display_name": "Python 3.8.5",
   "language": "python",
   "name": "python3"
  },
  "language_info": {
   "codemirror_mode": {
    "name": "ipython",
    "version": 3
   },
   "file_extension": ".py",
   "mimetype": "text/x-python",
   "name": "python",
   "nbconvert_exporter": "python",
   "pygments_lexer": "ipython3",
   "version": "3.8.5"
  },
  "vscode": {
   "interpreter": {
    "hash": "e6dbaae12c634cdde4db94b243b73918497aa3335a0ac07c09eac23ad0d0dd70"
   }
  }
 },
 "nbformat": 4,
 "nbformat_minor": 2
}
