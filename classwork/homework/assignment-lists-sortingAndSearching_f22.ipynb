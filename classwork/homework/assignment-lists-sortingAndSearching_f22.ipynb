{
 "cells": [
  {
   "cell_type": "markdown",
   "metadata": {},
   "source": [
    "### Doubly Linked List\n",
    "\n",
    "We have previously developed a doubly linked list in an object oriented way. A proper implementation is found below, but feel free to use the code you wrote instead of mine. \n",
    "\n",
    "The code needs to be extended to have Class functions that will search for values and also will sort the values."
   ]
  },
  {
   "cell_type": "markdown",
   "metadata": {},
   "source": [
    "## Constructing a Doubly Linked List\n",
    "\n",
    "The **Node** and **Doubly Linked List** class implementations are given:"
   ]
  },
  {
   "cell_type": "code",
   "execution_count": 6,
   "metadata": {
    "collapsed": true
   },
   "outputs": [],
   "source": [
    "class Node(object):\n",
    "    \"\"\"Doubly linked node which stores an object\"\"\"\n",
    "\n",
    "    def __init__(self, element, data=None, next_node=None, previous_node=None):\n",
    "        # The underscores are to prevent overwriting the variables if inherited and prevents access from outside of scope\n",
    "        self.data = data\n",
    "        self.__element = element\n",
    "        self.__next_node = next_node\n",
    "        self.__previous_node = previous_node\n",
    "\n",
    "    def get_element(self):\n",
    "        \"\"\"Returns the element stored in this node\"\"\"\n",
    "        return self.__element\n",
    "\n",
    "    def get_previous(self):\n",
    "        \"\"\"Returns the previous linked node\"\"\"\n",
    "        return self.__previous_node\n",
    "\n",
    "    def get_next(self):\n",
    "        \"\"\"Returns the next linked node\"\"\"\n",
    "        return self.__next_node\n",
    "\n",
    "    def set_element(self, element):\n",
    "        \"\"\"Sets the element stored in this node\"\"\"\n",
    "        self.__element = element\n",
    "\n",
    "    def set_previous(self, previous_node):\n",
    "        \"\"\"Sets the previous linked node\"\"\"\n",
    "        self.__previous_node = previous_node\n",
    "\n",
    "    def set_next(self, next_node):\n",
    "        \"\"\"Sets the next linked node\"\"\"\n",
    "        self.__next_node = next_node\n",
    "    \n",
    "    def __str__(self):\n",
    "        return str(self.__element)\n",
    "\n",
    "class DoublyLinkedList(object):\n",
    "    \"\"\"Doubly linked node data structure\"\"\"\n",
    "\n",
    "    def __init__(self):\n",
    "        self.__size = 0\n",
    "        self.__header = Node('Header')\n",
    "        self.__trailer = Node('Trailer')\n",
    "        self.__header.set_next(self.__trailer)\n",
    "        self.__trailer.set_previous(self.__header)\n",
    "        self.__current = None\n",
    "\n",
    "    def __repr__(self):\n",
    "        if not self.is_empty():\n",
    "            out = f'('\n",
    "            for node in self:\n",
    "                out += f\"({node.get_element()}), \"\n",
    "            out = out[:-2]\n",
    "            out += ')'\n",
    "        else:\n",
    "            out = 'Empty List'\n",
    "        return out\n",
    "    def __iter__(self):\n",
    "        self.__current = None\n",
    "        return self\n",
    "\n",
    "    def __next__(self):\n",
    "        \"\"\"Standard python iterator method\"\"\"\n",
    "        if self.is_empty() or self.__current == self.__trailer:\n",
    "            raise StopIteration()\n",
    "        elif self.__current is None:\n",
    "            self.__current = self.__header\n",
    "        self.__current = self.__current.get_next()\n",
    "        if self.__current != self.__trailer:\n",
    "            return self.__current \n",
    "        else:\n",
    "            raise StopIteration()\n",
    "\n",
    "    def map(self, function):\n",
    "        \"\"\"Run function on every element in the list\"\"\"\n",
    "        for node in self:\n",
    "            if node != self.__trailer and node != self.__header:\n",
    "                node.set_element(function(node.get_element()))\n",
    "\n",
    "    def size(self):\n",
    "        \"\"\"Returns the number of elements in the list\"\"\"\n",
    "        return self.__size\n",
    "\n",
    "    def is_empty(self):\n",
    "        \"\"\"Returns the number of elements in the list\"\"\"\n",
    "        return self.__size == 0\n",
    "\n",
    "    def get_first(self):\n",
    "        \"\"\"Get the first element of the list\"\"\"\n",
    "        if self.is_empty():\n",
    "            raise Exception(\"List is empty\")\n",
    "        else:\n",
    "            return self.__header.get_next()\n",
    "\n",
    "    def get_last(self):\n",
    "        \"\"\"Get the last element of the list\"\"\"\n",
    "        if self.is_empty():\n",
    "            raise Exception(\"List is empty\")\n",
    "        else:\n",
    "            return self.__trailer.get_previous()\n",
    "\n",
    "    def get_previous(self, node):\n",
    "        \"\"\"Returns the node before the given node\"\"\"\n",
    "        if node == self.__header:\n",
    "            raise Exception(\"Cannot get the element before the header of this list\")\n",
    "        else:\n",
    "            return node.get_previous()\n",
    "\n",
    "    def get_next(self, node):\n",
    "        \"\"\"Returns the node after the given node\"\"\"\n",
    "        if node == self.__trailer:\n",
    "            raise Exception(\"Cannot get the element after the trailer of this list\")\n",
    "        else:\n",
    "            return node.get_next()\n",
    "\n",
    "    def add_before(self, new, existing):\n",
    "        \"\"\"Insert the new before existing\"\"\"\n",
    "        previous_existing = self.get_previous(existing)\n",
    "        new.set_previous(previous_existing)\n",
    "        new.set_next(existing)\n",
    "        existing.set_previous(new)\n",
    "        previous_existing.set_next(new)\n",
    "        self.__size += 1\n",
    "\n",
    "    def add_after(self, new, existing):\n",
    "        \"\"\"Insert the new after existing\"\"\"\n",
    "        next_existing = self.get_next(existing)\n",
    "        new.set_previous(existing)\n",
    "        new.set_next(next_existing)\n",
    "        existing.set_next(new)\n",
    "        next_existing.set_previous(new)\n",
    "        self.__size += 1\n",
    "\n",
    "    def add_first(self, new):\n",
    "        \"\"\"Insert the node at the head of the list\"\"\"\n",
    "        self.add_after(new, self.__header)\n",
    "\n",
    "    def add_last(self, new):\n",
    "        \"\"\"Insert the node at the tail of the list\"\"\"\n",
    "        self.add_before(new, self.__trailer)\n",
    "\n",
    "    def remove(self, node):\n",
    "        \"\"\"Removes the given node from the list\"\"\"\n",
    "        before = self.get_previous(node)\n",
    "        after = self.get_next(node)\n",
    "        before.set_next(after)\n",
    "        after.set_previous(before)\n",
    "        node.set_next(None)\n",
    "        node.set_previous(None)\n",
    "        self.__size -= 1\n",
    "    \n",
    "    def move_node_after(self,last_sorted, node):\n",
    "        bn = node.get_previous()\n",
    "        an = node.get_next()\n",
    "        an.set_previous(bn)\n",
    "        bn.set_next(an)\n",
    "        #add_after(node, after)\n",
    "        first_unsorted = last_sorted.get_next()\n",
    "        last_sorted.set_next(node)\n",
    "        node.set_previous(last_sorted)\n",
    "        node.set_next(first_unsorted)\n",
    "        \n",
    "        if first_unsorted is not None:\n",
    "            first_unsorted.set_previous(node)\n",
    "    \n",
    "    def sequential_search(self,value):\n",
    "        \"\"\"Finds the value in the list and returns the node\"\"\"\n",
    "        current = self.__header.get_next()\n",
    "        while current is not None:\n",
    "            if current.data == value:\n",
    "                return current\n",
    "            current = current.get_next()\n",
    "        return None\n",
    "\n",
    "    def binary_search(self,value):\n",
    "        \"\"\"Implementation of a binary search for a value, also returns the node\"\"\"\n",
    "        #HINT: REQUIRES THE LIST TO BE SORTED!\n",
    "        pass\n",
    "\n",
    "    def bubble_sort(self):\n",
    "        pass\n",
    "    \n",
    "    def selection_sort(self):\n",
    "        if self.is_empty():\n",
    "            return\n",
    "\n",
    "        # Traverse the list\n",
    "        for i, node_i in enumerate(self):\n",
    "            # Find the minimum element in the unsorted part of the list\n",
    "            min_node = node_i\n",
    "            for node_j in self[i:]:\n",
    "                if node_j.get_element() < min_node.get_element():\n",
    "                    min_node = node_j\n",
    "\n",
    "            # Swap the minimum element with the first element in the unsorted part of the list\n",
    "            self.swap(node_i, min_node)\n",
    "        \n",
    "    \n",
    "    def insertion_sort(self):\n",
    "        if self.is_empty():\n",
    "            return\n",
    "\n",
    "        # Traverse the list\n",
    "        for i, node_i in enumerate(self):\n",
    "            # Find the position where node_i should be inserted\n",
    "            pos = node_i.get_previous()\n",
    "            while pos != self.__header and pos.get_element() > node_i.get_element():\n",
    "                pos = pos.get_previous()\n",
    "\n",
    "            # Move node_i to its correct position\n",
    "            if pos != node_i.get_previous():\n",
    "                self.remove(node_i)\n",
    "                self.add_after(node_i, pos)\n",
    "    \n",
    "    def shell_sort(self):\n",
    "        pass\n",
    "    \n",
    "    def merge_sort(self):\n",
    "        pass\n",
    "    \n",
    "    def quick_sort(self):\n",
    "        pass   \n",
    "\n",
    "    def swap(self, first, second):\n",
    "        prev = first.get_previous()\n",
    "        after = second.get_next()\n",
    "        prev.set_next(second)\n",
    "        second.set_previous(prev)\n",
    "        second.set_next(first)\n",
    "        first.set_previous(second)\n",
    "        first.set_next(after)\n",
    "        after.set_previous(first)\n",
    "        return None\n",
    "    \n",
    "    \n"
   ]
  },
  {
   "cell_type": "markdown",
   "metadata": {},
   "source": [
    "**Task 1 (25 points)**: Implement a sequential search and show the implementation works."
   ]
  },
  {
   "cell_type": "code",
   "execution_count": 2,
   "metadata": {
    "collapsed": true
   },
   "outputs": [
    {
     "name": "stdout",
     "output_type": "stream",
     "text": [
      "((1), (3), (5), (7), (9), (11), (13), (15), (17), (19))\n",
      "Node not found\n"
     ]
    }
   ],
   "source": [
    "from numpy import random\n",
    "\n",
    "dL = DoublyLinkedList()\n",
    "for i in range(1,21,2):\n",
    "    dL.add_last(Node(i))\n",
    "print(dL)\n",
    "\n",
    "#The code below is broken - make it work\n",
    "node12 = dL.sequential_search(12)\n",
    "if node12 is not None:\n",
    "    print(node12.data)\n",
    "else:\n",
    "    print(\"Node not found\")"
   ]
  },
  {
   "cell_type": "code",
   "execution_count": 3,
   "metadata": {},
   "outputs": [
    {
     "name": "stdout",
     "output_type": "stream",
     "text": [
      "((2), (1))\n",
      "((1), (2))\n"
     ]
    },
    {
     "data": {
      "text/plain": [
       "True"
      ]
     },
     "execution_count": 3,
     "metadata": {},
     "output_type": "execute_result"
    }
   ],
   "source": [
    "dL = DoublyLinkedList()\n",
    "for i in [2, 1]:\n",
    "    dL.add_last(Node(i))\n",
    "print(dL)\n",
    "\n",
    "dL.swap(dL.get_first(), dL.get_last())\n",
    "print(dL)\n",
    "str(dL) == \"((1), (2))\""
   ]
  },
  {
   "cell_type": "code",
   "execution_count": 4,
   "metadata": {},
   "outputs": [],
   "source": [
    "# def move_node_after(node, last_sorted):\n",
    "#     \"\"\"\n",
    "#     assume both nodes are in the DLL.\n",
    "#     dislocate node from list and place it after\n",
    "#     outcome:\n",
    "#     ->after->node->first_unsorted\n",
    "#     \"\"\"\n",
    "\n",
    "#     bn = node.get_previous()\n",
    "#     an = node.get_next()\n",
    "#     an.set_previous(bn)\n",
    "#     bn.set_next(an)\n",
    "#     #add_after(node, after)\n",
    "#     first_unsorted = last_sorted.get_next()\n",
    "#     last_sorted.set_next(node)\n",
    "#     node.set_previous(last_sorted)\n",
    "#     node.set_next(first_unsorted)\n",
    "    \n",
    "#     if first_unsorted is not None:\n",
    "#         first_unsorted.set_previous(node)"
   ]
  },
  {
   "cell_type": "code",
   "execution_count": null,
   "metadata": {},
   "outputs": [],
   "source": []
  },
  {
   "cell_type": "code",
   "execution_count": 5,
   "metadata": {},
   "outputs": [
    {
     "name": "stderr",
     "output_type": "stream",
     "text": [
      "ic| dL: ((3))\n"
     ]
    },
    {
     "ename": "NameError",
     "evalue": "name 'move_node_after' is not defined",
     "output_type": "error",
     "traceback": [
      "\u001b[1;31m---------------------------------------------------------------------------\u001b[0m",
      "\u001b[1;31mNameError\u001b[0m                                 Traceback (most recent call last)",
      "\u001b[1;32mc:\\Users\\Mach6\\Documents\\cmpsc132\\cmpsc132\\classwork\\homework\\assignment-lists-sortingAndSearching_f22.ipynb Cell 10\u001b[0m line \u001b[0;36m6\n\u001b[0;32m      <a href='vscode-notebook-cell:/c%3A/Users/Mach6/Documents/cmpsc132/cmpsc132/classwork/homework/assignment-lists-sortingAndSearching_f22.ipynb#X11sZmlsZQ%3D%3D?line=3'>4</a>\u001b[0m dL\u001b[39m.\u001b[39madd_last(Node(i))\n\u001b[0;32m      <a href='vscode-notebook-cell:/c%3A/Users/Mach6/Documents/cmpsc132/cmpsc132/classwork/homework/assignment-lists-sortingAndSearching_f22.ipynb#X11sZmlsZQ%3D%3D?line=4'>5</a>\u001b[0m ic(dL)\n\u001b[1;32m----> <a href='vscode-notebook-cell:/c%3A/Users/Mach6/Documents/cmpsc132/cmpsc132/classwork/homework/assignment-lists-sortingAndSearching_f22.ipynb#X11sZmlsZQ%3D%3D?line=5'>6</a>\u001b[0m move_node_after(dL\u001b[39m.\u001b[39mget_last(), dL\u001b[39m.\u001b[39mget_first())\n\u001b[0;32m      <a href='vscode-notebook-cell:/c%3A/Users/Mach6/Documents/cmpsc132/cmpsc132/classwork/homework/assignment-lists-sortingAndSearching_f22.ipynb#X11sZmlsZQ%3D%3D?line=6'>7</a>\u001b[0m ic(dL)\n\u001b[0;32m      <a href='vscode-notebook-cell:/c%3A/Users/Mach6/Documents/cmpsc132/cmpsc132/classwork/homework/assignment-lists-sortingAndSearching_f22.ipynb#X11sZmlsZQ%3D%3D?line=7'>8</a>\u001b[0m dL\u001b[39m.\u001b[39mselection_sort()\n",
      "\u001b[1;31mNameError\u001b[0m: name 'move_node_after' is not defined"
     ]
    }
   ],
   "source": [
    "from icecream import ic\n",
    "dL = DoublyLinkedList()\n",
    "for i in [3, 2, 1]:\n",
    "    dL.add_last(Node(i))\n",
    "    ic(dL)\n",
    "    move_node_after(dL.get_last(), dL.get_first())\n",
    "    ic(dL)\n",
    "    dL.selection_sort()\n",
    "    ic(dL)\n",
    "    dL.selection_sort()\n",
    "    ic(dL)"
   ]
  },
  {
   "cell_type": "markdown",
   "metadata": {},
   "source": [
    "**Task 2 (25 points)**: A Faster Search\n",
    "\n",
    "A **binary search** should return the node which has a value faster than the above sequential search. \n",
    "\n",
    "Implement a **binary search** and run it on the ***Doubly Linked List*** created.\n"
   ]
  },
  {
   "cell_type": "code",
   "execution_count": null,
   "metadata": {
    "collapsed": true
   },
   "outputs": [
    {
     "name": "stdout",
     "output_type": "stream",
     "text": [
      "None\n"
     ]
    }
   ],
   "source": [
    "#Test your implementation here\n",
    "#The code below is broken - make it work\n",
    "node15= dL.binary_search(15)\n",
    "print(node15)"
   ]
  },
  {
   "cell_type": "markdown",
   "metadata": {},
   "source": [
    "**Task 4 (50 points)**: Implement the two of the following sorting methods <br>\n",
    "`Bubble Sort`, `The Selection Sort`, `The Insertion Sort`, `The Shell Sort`,<br>\n",
    "`The Merge Sort`, or `The Quick Sort`\n",
    "\n",
    "If you did not like your grade on the previous ** Doubly Linked List** assignment, <br>\n",
    "I will neglect that grade and count this assignment twice if you successfully implement the `Merge Sort` or `Quick Sort` algorithm(s). "
   ]
  },
  {
   "cell_type": "code",
   "execution_count": null,
   "metadata": {
    "collapsed": true
   },
   "outputs": [
    {
     "ename": "AttributeError",
     "evalue": "'DoublyLinkedList' object has no attribute 'first_sort'",
     "output_type": "error",
     "traceback": [
      "\u001b[1;31m---------------------------------------------------------------------------\u001b[0m",
      "\u001b[1;31mAttributeError\u001b[0m                            Traceback (most recent call last)",
      "\u001b[1;32mc:\\Users\\Mach6\\Documents\\cmpsc132\\cmpsc132\\classwork\\homework\\assignment-lists-sortingAndSearching_f22.ipynb Cell 13\u001b[0m line \u001b[0;36m3\n\u001b[0;32m      <a href='vscode-notebook-cell:/c%3A/Users/Mach6/Documents/cmpsc132/cmpsc132/classwork/homework/assignment-lists-sortingAndSearching_f22.ipynb#X15sZmlsZQ%3D%3D?line=0'>1</a>\u001b[0m \u001b[39m#Test your implementation here\u001b[39;00m\n\u001b[0;32m      <a href='vscode-notebook-cell:/c%3A/Users/Mach6/Documents/cmpsc132/cmpsc132/classwork/homework/assignment-lists-sortingAndSearching_f22.ipynb#X15sZmlsZQ%3D%3D?line=1'>2</a>\u001b[0m \u001b[39m#do a sort here\u001b[39;00m\n\u001b[1;32m----> <a href='vscode-notebook-cell:/c%3A/Users/Mach6/Documents/cmpsc132/cmpsc132/classwork/homework/assignment-lists-sortingAndSearching_f22.ipynb#X15sZmlsZQ%3D%3D?line=2'>3</a>\u001b[0m dL\u001b[39m.\u001b[39;49mfirst_sort()\n\u001b[0;32m      <a href='vscode-notebook-cell:/c%3A/Users/Mach6/Documents/cmpsc132/cmpsc132/classwork/homework/assignment-lists-sortingAndSearching_f22.ipynb#X15sZmlsZQ%3D%3D?line=3'>4</a>\u001b[0m \u001b[39mfor\u001b[39;00m n \u001b[39min\u001b[39;00m dL:\n\u001b[0;32m      <a href='vscode-notebook-cell:/c%3A/Users/Mach6/Documents/cmpsc132/cmpsc132/classwork/homework/assignment-lists-sortingAndSearching_f22.ipynb#X15sZmlsZQ%3D%3D?line=4'>5</a>\u001b[0m     \u001b[39mprint\u001b[39m(n)\n",
      "\u001b[1;31mAttributeError\u001b[0m: 'DoublyLinkedList' object has no attribute 'first_sort'"
     ]
    }
   ],
   "source": [
    "#Test your implementation here\n",
    "#do a sort here\n",
    "dL.first_sort()\n",
    "for n in dL:\n",
    "    print(n)\n",
    "\n",
    "# Reset your list and add in random values again\n",
    "dL = DoublyLinkedList()\n",
    "\n",
    "#do a different sort here\n",
    "dL.second_sort()\n",
    "for n in dL:\n",
    "    print(n)"
   ]
  },
  {
   "cell_type": "markdown",
   "metadata": {},
   "source": [
    "**Task -1(Alternative Way to Do this assignment)**: \n",
    "\n",
    "Is the Doubly Linked List being a pain and you are having trouble getting the searches and sorts to work? \n",
    "\n",
    "If you use a Linked List (singly?) to do all of the above tasks I will also accept this as a proper solution. But you must implement either the '`MERGE SORT` or `QUICK SORT` divide and conquer algos (+10 to do both). "
   ]
  },
  {
   "cell_type": "markdown",
   "metadata": {},
   "source": []
  }
 ],
 "metadata": {
  "kernelspec": {
   "display_name": "Python 3.8.5",
   "language": "python",
   "name": "python3"
  },
  "language_info": {
   "codemirror_mode": {
    "name": "ipython",
    "version": 3
   },
   "file_extension": ".py",
   "mimetype": "text/x-python",
   "name": "python",
   "nbconvert_exporter": "python",
   "pygments_lexer": "ipython3",
   "version": "3.11.0"
  },
  "vscode": {
   "interpreter": {
    "hash": "e6dbaae12c634cdde4db94b243b73918497aa3335a0ac07c09eac23ad0d0dd70"
   }
  }
 },
 "nbformat": 4,
 "nbformat_minor": 2
}
