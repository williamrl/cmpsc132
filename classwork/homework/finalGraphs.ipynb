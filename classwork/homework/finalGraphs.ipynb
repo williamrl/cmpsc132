{
 "cells": [
  {
   "cell_type": "code",
   "execution_count": 2,
   "metadata": {},
   "outputs": [],
   "source": [
    "maze = [[-1,-1,-1,-1,-1,-1,-1,-1,-1,-1,-1,-1,-1,-1,-1,-1,-1,-1,-1,-1,-1,-1,],\n",
    "        [-1, 0, 0, 0,-1, 0, 0, 0,-1,-1, 0,-1,-1, 0, 0, 0, 0, 0, 0, 0, 0,-1,],\n",
    "        [ 0, 0, 0, 0, 0, 0,-1, 0, 0, 0, 0, 0,-1,-1,-1,-1,-1,-1,-1,-1,-1,-1,],\n",
    "        [-1, 0,-1, 0, 0, 0, 0,-1,-1, 0, 0,-1,-1,-1,-1, 0,-1,-1,-1, 0,-1,-1,],\n",
    "        [-1, 0,-1, 0, 0, 0,-1, 0,-1, 0,-1,-1, 0, 0, 0, 0,-1,-1,-1, 0, 0,-1,],\n",
    "        [-1, 0, 0, 0, 0, 0, 0, 0, 0, 0, 0,-1,-1, 0, 0,-1,-1, 0, 0,-1, 0,-1,],\n",
    "        [-1,-1,-1,-1,-1, 0,-1, 0,-1, 0, 0, 0, 0, 0, 0,-1,-1, 0, 0,-1, 0,-1,],\n",
    "        [-1,-1,-1,-1,-1, 0,-1,-1,-1, 0, 0,-1, 0,-1, 0, 0,-1,-1, 0, 0, 0,-1,],\n",
    "        [-1, 0, 0, 0, 0, 0, 0, 0, 0, 0, 0,-1, 0,-1, 0, 9,-1, 0,-1, 0, 0,-1,],\n",
    "        [-1,-1,-1,-1,-1, 0,-1, 0, 0,-1, 0,-1, 0,-1, 0, 0, 0, 0, 0,-1, 0,-1,],\n",
    "        [-1,-1,-1,-1,-1,-1,-1,-1,-1,-1,-1,-1,-1,-1,-1,-1,-1,-1,-1,-1,-1,-1,]]"
   ]
  },
  {
   "cell_type": "code",
   "execution_count": 3,
   "metadata": {},
   "outputs": [
    {
     "name": "stdout",
     "output_type": "stream",
     "text": [
      "[[-1 -1 -1 -1 -1 -1 -1 -1 -1 -1 -1 -1 -1 -1 -1 -1 -1 -1 -1 -1 -1 -1]\n",
      " [-1  0  0  0 -1  0  0  0 -1 -1  0 -1 -1  0  0  0  0  0  0  0  0 -1]\n",
      " [ 0  0  0  0  0  0 -1  0  0  0  0  0 -1 -1 -1 -1 -1 -1 -1 -1 -1 -1]\n",
      " [-1  0 -1  0  0  0  0 -1 -1  0  0 -1 -1 -1 -1  0 -1 -1 -1  0 -1 -1]\n",
      " [-1  0 -1  0  0  0 -1  0 -1  0 -1 -1  0  0  0  0 -1 -1 -1  0  0 -1]\n",
      " [-1  0  0  0  0  0  0  0  0  0  0 -1 -1  0  0 -1 -1  0  0 -1  0 -1]\n",
      " [-1 -1 -1 -1 -1  0 -1  0 -1  0  0  0  0  0  0 -1 -1  0  0 -1  0 -1]\n",
      " [-1 -1 -1 -1 -1  0 -1 -1 -1  0  0 -1  0 -1  0  0 -1 -1  0  0  0 -1]\n",
      " [-1  0  0  0  0  0  0  0  0  0  0 -1  0 -1  0  9 -1  0 -1  0  0 -1]\n",
      " [-1 -1 -1 -1 -1  0 -1  0  0 -1  0 -1  0 -1  0  0  0  0  0 -1  0 -1]\n",
      " [-1 -1 -1 -1 -1 -1 -1 -1 -1 -1 -1 -1 -1 -1 -1 -1 -1 -1 -1 -1 -1 -1]]\n"
     ]
    },
    {
     "data": {
      "image/png": "[encoded data removed]",
      "text/plain": [
       "<Figure size 640x480 with 1 Axes>"
      ]
     },
     "metadata": {},
     "output_type": "display_data"
    }
   ],
   "source": [
    "import numpy as np\n",
    "import matplotlib.pyplot as plt\n",
    "\n",
    "import time\n",
    "from IPython.display import display, clear_output\n",
    "\n",
    "mmaze = np.array(maze)\n",
    "y_b, x_b = mmaze.shape\n",
    "print(mmaze)\n",
    "plt.pcolor(mmaze[-1::-1,:])\n",
    "plt.axis('equal')\n",
    "plt.axis('off')\n",
    "plt.show()"
   ]
  }
 ],
 "metadata": {
  "kernelspec": {
   "display_name": "Python 3",
   "language": "python",
   "name": "python3"
  },
  "language_info": {
   "codemirror_mode": {
    "name": "ipython",
    "version": 3
   },
   "file_extension": ".py",
   "mimetype": "text/x-python",
   "name": "python",
   "nbconvert_exporter": "python",
   "pygments_lexer": "ipython3",
   "version": "3.11.0"
  }
 },
 "nbformat": 4,
 "nbformat_minor": 2
}
