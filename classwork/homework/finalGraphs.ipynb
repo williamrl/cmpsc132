{
 "cells": [
  {
   "cell_type": "code",
   "execution_count": 13,
   "metadata": {},
   "outputs": [],
   "source": [
    "maze = [[-1,-1,-1,-1,-1,-1,-1,-1,-1,-1,-1,-1,-1,-1,-1,-1,-1,-1,-1,-1,-1,-1,],\n",
    "        [-1, 0, 0, 0,-1, 0, 0, 0,-1,-1, 0,-1,-1, 0, 0, 0, 0, 0, 0, 0, 0,-1,],\n",
    "        [ 0, 0, 0, 0, 0, 0,-1, 0, 0, 0, 0, 0,-1,-1,-1,-1,-1,-1,-1,-1,-1,-1,],\n",
    "        [-1, 0,-1, 0, 0, 0, 0,-1,-1, 0, 0,-1,-1,-1,-1, 0,-1,-1,-1, 0,-1,-1,],\n",
    "        [-1, 0,-1, 0, 0, 0,-1, 0,-1, 0,-1,-1, 0, 0, 0, 0,-1,-1,-1, 0, 0,-1,],\n",
    "        [-1, 0, 0, 0, 0, 0, 0, 0, 0, 0, 0,-1,-1, 0, 0,-1,-1, 0, 0,-1, 0,-1,],\n",
    "        [-1,-1,-1,-1,-1, 0,-1, 0,-1, 0, 0, 0, 0, 0, 0,-1,-1, 0, 0,-1, 0,-1,],\n",
    "        [-1,-1,-1,-1,-1, 0,-1,-1,-1, 0, 0,-1, 0,-1, 0, 0,-1,-1, 0, 0, 0,-1,],\n",
    "        [-1, 0, 0, 0, 0, 0, 0, 0, 0, 0, 0,-1, 0,-1, 0, 9,-1, 0,-1, 0, 0,-1,],\n",
    "        [-1,-1,-1,-1,-1, 0,-1, 0, 0,-1, 0,-1, 0,-1, 0, 0, 0, 0, 0,-1, 0,-1,],\n",
    "        [-1,-1,-1,-1,-1,-1,-1,-1,-1,-1,-1,-1,-1,-1,-1,-1,-1,-1,-1,-1,-1,-1,]]"
   ]
  },
  {
   "cell_type": "code",
   "execution_count": 14,
   "metadata": {},
   "outputs": [
    {
     "name": "stdout",
     "output_type": "stream",
     "text": [
      "[[-1 -1 -1 -1 -1 -1 -1 -1 -1 -1 -1 -1 -1 -1 -1 -1 -1 -1 -1 -1 -1 -1]\n",
      " [-1  0  0  0 -1  0  0  0 -1 -1  0 -1 -1  0  0  0  0  0  0  0  0 -1]\n",
      " [ 0  0  0  0  0  0 -1  0  0  0  0  0 -1 -1 -1 -1 -1 -1 -1 -1 -1 -1]\n",
      " [-1  0 -1  0  0  0  0 -1 -1  0  0 -1 -1 -1 -1  0 -1 -1 -1  0 -1 -1]\n",
      " [-1  0 -1  0  0  0 -1  0 -1  0 -1 -1  0  0  0  0 -1 -1 -1  0  0 -1]\n",
      " [-1  0  0  0  0  0  0  0  0  0  0 -1 -1  0  0 -1 -1  0  0 -1  0 -1]\n",
      " [-1 -1 -1 -1 -1  0 -1  0 -1  0  0  0  0  0  0 -1 -1  0  0 -1  0 -1]\n",
      " [-1 -1 -1 -1 -1  0 -1 -1 -1  0  0 -1  0 -1  0  0 -1 -1  0  0  0 -1]\n",
      " [-1  0  0  0  0  0  0  0  0  0  0 -1  0 -1  0  9 -1  0 -1  0  0 -1]\n",
      " [-1 -1 -1 -1 -1  0 -1  0  0 -1  0 -1  0 -1  0  0  0  0  0 -1  0 -1]\n",
      " [-1 -1 -1 -1 -1 -1 -1 -1 -1 -1 -1 -1 -1 -1 -1 -1 -1 -1 -1 -1 -1 -1]]\n"
     ]
    },
    {
     "data": {
      "image/png": "[encoded data removed]",
      "text/plain": [
       "<Figure size 640x480 with 1 Axes>"
      ]
     },
     "metadata": {},
     "output_type": "display_data"
    }
   ],
   "source": [
    "import numpy as np\n",
    "import matplotlib.pyplot as plt\n",
    "\n",
    "import time\n",
    "from IPython.display import display, clear_output\n",
    "\n",
    "mmaze = np.array(maze)\n",
    "y_b, x_b = mmaze.shape\n",
    "print(mmaze)\n",
    "plt.pcolor(mmaze[-1::-1,:])\n",
    "plt.axis('equal')\n",
    "plt.axis('off')\n",
    "plt.show()"
   ]
  },
  {
   "cell_type": "code",
   "execution_count": 15,
   "metadata": {},
   "outputs": [],
   "source": [
    "#BFS\n",
    "import numpy as np\n",
    "from collections import deque\n",
    "from scipy.spatial import distance\n",
    "\n",
    "def maze_to_graph(maze):\n",
    "    graph = {}\n",
    "    for i in range(len(maze)):\n",
    "        for j in range(len(maze[0])):\n",
    "            if maze[i][j] != -1:\n",
    "                graph[(i, j)] = [(x, y) for x, y in [(i-1, j), (i+1, j), (i, j-1), (i, j+1)] if maze[x][y] != -1]\n",
    "    return graph\n",
    "\n",
    "def bfs(graph, start, end):\n",
    "    queue = deque([[start]])\n",
    "    seen = set([start])\n",
    "    while queue:\n",
    "        path = queue.popleft()\n",
    "        vertex = path[-1]\n",
    "        if vertex == end:\n",
    "            return path\n",
    "        for neighbor in graph[vertex]:\n",
    "            if neighbor not in seen:\n",
    "                seen.add(neighbor)\n",
    "                queue.append(path + [neighbor])\n"
   ]
  },
  {
   "cell_type": "code",
   "execution_count": 16,
   "metadata": {},
   "outputs": [
    {
     "name": "stdout",
     "output_type": "stream",
     "text": [
      "Path: [(2, 0), (2, 1), (3, 1), (4, 1), (5, 1), (5, 2), (5, 3), (5, 4), (5, 5), (5, 6), (5, 7), (5, 8), (5, 9), (6, 9), (6, 10), (6, 11), (6, 12), (6, 13), (6, 14), (7, 14), (8, 14), (8, 15)]\n"
     ]
    }
   ],
   "source": [
    "\n",
    "start = (2, 0) \n",
    "end = (8, 15)  \n",
    "\n",
    "graph = maze_to_graph(maze)\n",
    "path = bfs(graph, start, end)\n",
    "\n",
    "print(\"Path:\", path)"
   ]
  },
  {
   "cell_type": "code",
   "execution_count": 17,
   "metadata": {},
   "outputs": [],
   "source": [
    "#length conversion and dijkstra\n",
    "\n",
    "def create_conversion_graph(units, conversions):\n",
    "    graph = {unit: {} for unit in units}\n",
    "    for unit1, unit2, rate in conversions:\n",
    "        graph[unit1][unit2] = rate\n",
    "        graph[unit2][unit1] = 1 / rate\n",
    "    return graph\n",
    "\n",
    "def dijkstra(graph, start, end):\n",
    "    shortest_paths = {start: (None, 0)}\n",
    "    current_node = start\n",
    "    visited = set()\n",
    "    while current_node != end:\n",
    "        visited.add(current_node)\n",
    "        destinations = graph[current_node]\n",
    "        weight_to_current_node = shortest_paths[current_node][1]\n",
    "        for next_node, weight in destinations.items():\n",
    "            weight = weight_to_current_node + weight\n",
    "            if next_node not in shortest_paths:\n",
    "                shortest_paths[next_node] = (current_node, weight)\n",
    "            else:\n",
    "                current_shortest_weight = shortest_paths[next_node][1]\n",
    "                if weight < current_shortest_weight:\n",
    "                    shortest_paths[next_node] = (current_node, weight)\n",
    "        next_destinations = {node: shortest_paths[node] for node in shortest_paths if node not in visited}\n",
    "        if not next_destinations:\n",
    "            return \"Route Not Possible\"\n",
    "        current_node = min(next_destinations, key=lambda k: next_destinations[k][1])\n",
    "    path = []\n",
    "    while current_node is not None:\n",
    "        path.append(current_node)\n",
    "        next_node = shortest_paths[current_node][0]\n",
    "        current_node = next_node\n",
    "    path = path[::-1]\n",
    "    return path"
   ]
  },
  {
   "cell_type": "code",
   "execution_count": 18,
   "metadata": {},
   "outputs": [
    {
     "name": "stdout",
     "output_type": "stream",
     "text": [
      "Conversion path: ['miles', 'feet', 'meters', \"Planck's lengths\"]\n"
     ]
    }
   ],
   "source": [
    "\n",
    "units = [\"miles\", \"feet\", \"inches\", \"yards\", \"furloughs\", \"meters\", \"kilometers\", \"marathon\", \"Planck's lengths\", \"Beard-Second\"]\n",
    "conversions = [\n",
    "    (\"miles\", \"feet\", 5280),\n",
    "    (\"feet\", \"inches\", 12),\n",
    "    (\"yards\", \"feet\", 3),\n",
    "    (\"miles\", \"furloughs\", 8),\n",
    "    (\"meters\", \"feet\", 3.281),\n",
    "    (\"kilometers\", \"meters\", 1000),\n",
    "    (\"marathon\", \"miles\", 26.219),\n",
    "    (\"Planck's lengths\", \"meters\", 1.616255e-35),\n",
    "    (\"Beard-Second\", \"inches\", 5) \n",
    "\n",
    "]\n",
    "\n",
    "graph = create_conversion_graph(units, conversions)\n",
    "path = dijkstra(graph, \"miles\", \"Planck's lengths\")\n",
    "\n",
    "print(\"Conversion path:\", path)"
   ]
  }
 ],
 "metadata": {
  "kernelspec": {
   "display_name": "Python 3",
   "language": "python",
   "name": "python3"
  },
  "language_info": {
   "codemirror_mode": {
    "name": "ipython",
    "version": 3
   },
   "file_extension": ".py",
   "mimetype": "text/x-python",
   "name": "python",
   "nbconvert_exporter": "python",
   "pygments_lexer": "ipython3",
   "version": "3.11.0"
  }
 },
 "nbformat": 4,
 "nbformat_minor": 2
}
