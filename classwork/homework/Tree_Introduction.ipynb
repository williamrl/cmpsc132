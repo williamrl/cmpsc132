{
  "cells": [
    {
      "cell_type": "code",
      "execution_count": null,
      "metadata": {
        "id": "vDsQXw6_xOWA"
      },
      "outputs": [],
      "source": []
    },
    {
      "cell_type": "markdown",
      "metadata": {
        "id": "Jq1mQKx7yJv9"
      },
      "source": []
    },
    {
      "cell_type": "markdown",
      "metadata": {
        "id": "15JSQmv0xSLG"
      },
      "source": [
        "# Trees - A fast introduction\n",
        "\n",
        "A tree is an abstract model of a hierarchical structure. It consists of nodes with a parent-child relationship. Its name comes from the fact that when drawn, it resembles an upside-down tree: the root of the tree is at the top and the leaves are at the bottom.\n",
        "\n",
        "A tree is a recursive data structure; each node of the tree contains a label value and a list of branches, each of which are also trees. The label can be any data type, while the branches are represented as a list of trees. The lecture slides provide a good overview of tree terminology and a visual to help demonstrate.\n",
        "\n",
        "## Definitions\n",
        "\n",
        "* `Node`\n",
        "A node is a fundamental part of a tree. It can have a name, which we call the “key.” A node may also have additional information. We call this additional information the “payload.” While the payload information is not central to many tree algorithms, it is often critical in applications that make use of trees.\n",
        "\n",
        "* `Edge`\n",
        "An edge is another fundamental part of a tree. An edge connects two nodes to show that there is a relationship between them. Every node (except the root) is connected by exactly one incoming edge from another node. Each node may have several outgoing edges.\n",
        "\n",
        "* `Root`\n",
        "The root of the tree is the only node in the tree that has no incoming edges. \n",
        "\n",
        "* `Path`\n",
        "A path is an ordered list of nodes that are connected by edges. For example, Mammal → Carnivora → Felidae → Felis → Domestica is a path.\n",
        "\n",
        "* `Children`\n",
        "The set of nodes c that have incoming edges from the same node to are said to be the children of that node. In Figure Figure 2, nodes log/, spool/, and yp/ are the children of node var/.\n",
        "\n",
        "* `Parent`\n",
        "A node is the parent of all the nodes it connects to with outgoing edges. In Figure 2 the node var/ is the parent of nodes log/, spool/, and yp/.\n",
        "\n",
        "* `Sibling`\n",
        "Nodes in the tree that are children of the same parent are said to be siblings. The nodes etc/ and usr/ are siblings in the filesystem tree.\n",
        "\n",
        "* `Subtree`\n",
        "A subtree is a set of nodes and edges comprised of a parent and all the descendants of that parent.\n",
        "\n",
        "* `Leaf Node`\n",
        "A leaf node is a node that has no children. For example, Human and Chimpanzee are leaf nodes in Figure 1.\n",
        "\n",
        "* `Level`\n",
        "The level of a node n is the number of edges on the path from the root node to n. For example, the level of the Felis node in Figure 1 is five. By definition, the level of the root node is zero.\n",
        "\n",
        "* `Height`\n",
        "The height of a tree is equal to the maximum level of any node in the tree. The height of the tree in Figure 2 is two."
      ]
    },
    {
      "cell_type": "code",
      "execution_count": 1,
      "metadata": {
        "id": "qiJgZPzWy3VM"
      },
      "outputs": [],
      "source": [
        "\n",
        "def tree(root_label, branches=[]):\n",
        "  ''' This is a simple tree implementation that allows for an arbitrary number of\n",
        "  children for any node'''\n",
        "  for branch in branches:\n",
        "      assert is_tree(branch), 'branches must be trees'\n",
        "  return [root_label] + list(branches)\n",
        "def label(tree):\n",
        "    return tree[0]\n",
        "def branches(tree):\n",
        "    return tree[1:]\n",
        "def is_tree(tree):\n",
        "    if type(tree) != list or len(tree) < 1:\n",
        "        return False\n",
        "    for branch in branches(tree):\n",
        "        if not is_tree(branch):\n",
        "            return False\n",
        "    return True\n",
        "\n"
      ]
    },
    {
      "cell_type": "code",
      "execution_count": 2,
      "metadata": {
        "colab": {
          "base_uri": "https://localhost:8080/"
        },
        "id": "OVAJA6SbzeBG",
        "outputId": "c03fa4e8-bf6f-40b2-ae79-f121c12b682e"
      },
      "outputs": [
        {
          "data": {
            "text/plain": [
              "[1, [2], [3, [4], [5]]]"
            ]
          },
          "execution_count": 2,
          "metadata": {},
          "output_type": "execute_result"
        }
      ],
      "source": [
        "t = tree(1, [tree(2), tree(3, [tree(4), tree(5)])])\n",
        "t"
      ]
    },
    {
      "cell_type": "markdown",
      "metadata": {
        "id": "Wn5aTBAzziPb"
      },
      "source": [
        "Below is some lifted code to visualize the above tree. Credit to Allen Downey."
      ]
    },
    {
      "cell_type": "code",
      "execution_count": 3,
      "metadata": {
        "id": "vyOHFZR5x0vs"
      },
      "outputs": [],
      "source": [
        "try:\n",
        "    import EoN\n",
        "except ImportError:\n",
        "    !pip install EoN\n",
        "\n",
        "import networkx as nx\n",
        "\n",
        "def add_edges(parent, G):\n",
        "    \"\"\"Make a NetworkX graph that represents the tree.\"\"\"\n",
        "    if parent is None:\n",
        "        return\n",
        "    \n",
        "    for child in branches(parent):\n",
        "        if child:\n",
        "            G.add_edge(parent[0], child[0])\n",
        "            add_edges(child, G)\n",
        "def get_labels(parent, labels):\n",
        "    if parent is None:\n",
        "        return\n",
        "    \n",
        "    if parent[0] == '\\0':\n",
        "        labels[parent] = parent.count\n",
        "    else:\n",
        "        labels[parent] = parent.letter\n",
        "        \n",
        "    get_labels(parent.left, labels)\n",
        "    get_labels(parent.right, labels)"
      ]
    },
    {
      "cell_type": "code",
      "execution_count": 4,
      "metadata": {
        "id": "7pAGS6bcx1WE"
      },
      "outputs": [],
      "source": [
        "G = nx.DiGraph()\n",
        "add_edges(t, G)"
      ]
    },
    {
      "cell_type": "code",
      "execution_count": 5,
      "metadata": {
        "colab": {
          "base_uri": "https://localhost:8080/",
          "height": 319
        },
        "id": "6YO21tUGyYyC",
        "outputId": "2b6534aa-3738-46a2-d748-cb9c9f3d4e86"
      },
      "outputs": [
        {
          "data": {
            "image/png": "[encoded data removed]",
            "text/plain": [
              "<Figure size 640x480 with 1 Axes>"
            ]
          },
          "metadata": {},
          "output_type": "display_data"
        }
      ],
      "source": [
        "from EoN import hierarchy_pos\n",
        "\n",
        "def draw_tree(tree):\n",
        "    G = nx.DiGraph()\n",
        "    add_edges(tree, G)\n",
        "    pos = hierarchy_pos(G)\n",
        "    labels = {1:1,2:2,3:3,4:4,5:5}\n",
        "    # get_labels(tree, labels)\n",
        "    nx.draw(G, pos, labels=labels, alpha=0.4)\n",
        "\n",
        "draw_tree(t)"
      ]
    },
    {
      "cell_type": "markdown",
      "metadata": {
        "id": "WMUbIIbN4XAu"
      },
      "source": [
        "## Tree traversal  \n",
        "This is the question of how to visit each of the nodes in a tree **exactly once.**\n",
        "1. Visit current node and **process node** check if node is a leaf or some other stopping condition. \n",
        "2. Iterate across branches and recurse down. \n",
        "  Often you can use `for ` loop or `list` comprehensions for branch iterations and recursion to go down.\n",
        "3. Combination of  recursive call returns are used to determine the final result of your probelm. ***ex: find sum of all labels in a tree -- it is not sufficient to just use recursive call, but must also process the label values***. \n",
        "\n",
        "The above functions are okay, but we can place all of the abstraction into a class. This allows for easy passage of data and storage. It will be a proper *ADT* in the eyes of *the Greater Will*.\n"
      ]
    },
    {
      "cell_type": "code",
      "execution_count": 6,
      "metadata": {
        "id": "wJjuOEHY11yU"
      },
      "outputs": [],
      "source": [
        "class Tree: \n",
        "  def __init__(s, label, branches= []):\n",
        "    s.label = label\n",
        "    s.branches = branches\n",
        "  def is_leaf(s):\n",
        "    return not s.branches"
      ]
    },
    {
      "cell_type": "markdown",
      "metadata": {
        "id": "bNrbEpGE6kiF"
      },
      "source": [
        "Following are several examples which you need to solve in class. "
      ]
    },
    {
      "cell_type": "code",
      "execution_count": 18,
      "metadata": {
        "id": "hRFRKYn26jz_"
      },
      "outputs": [],
      "source": [
        "def count_leaves(t):\n",
        "  '''Write a function that counts the number of leaves in a given Tree t'''\n",
        "  if t.is_leaf():\n",
        "    return 1\n",
        "  else:\n",
        "    # accumulator = 0\n",
        "    # for branch in t.branches:\n",
        "    #   accumulator += count_leaves(branch)\n",
        "    #   return accumulator\n",
        "    return sum([count_leaves(branch) for branch in t.branches])\n",
        "      \n",
        "\n"
      ]
    },
    {
      "cell_type": "code",
      "execution_count": 19,
      "metadata": {
        "colab": {
          "base_uri": "https://localhost:8080/"
        },
        "id": "rGC1q4LV13NT",
        "outputId": "2bf93c15-79fa-4b7e-a062-81dfd399313b"
      },
      "outputs": [
        {
          "data": {
            "text/plain": [
              "True"
            ]
          },
          "execution_count": 19,
          "metadata": {},
          "output_type": "execute_result"
        }
      ],
      "source": [
        "t = Tree(1, [Tree(2), Tree(3, [Tree(4), Tree(5)])])\n",
        "count_leaves(t) == 3"
      ]
    },
    {
      "cell_type": "code",
      "execution_count": 9,
      "metadata": {
        "colab": {
          "base_uri": "https://localhost:8080/"
        },
        "id": "YMbFu3zw2F3r",
        "outputId": "ff70799e-5dfc-42de-dc3f-d516d71b9fbf"
      },
      "outputs": [
        {
          "data": {
            "text/plain": [
              "[1, 2, [3]]"
            ]
          },
          "execution_count": 9,
          "metadata": {},
          "output_type": "execute_result"
        }
      ],
      "source": [
        "def list_of_leaves(t):\n",
        "  '''Returns a list of leaves of a tree '''\n",
        "  if t.is_leaf():\n",
        "    pass\n",
        "  else:\n",
        "    pass\n",
        "#HINT:\n",
        "sum([ [1], [2, [3]]],[])"
      ]
    },
    {
      "cell_type": "code",
      "execution_count": 10,
      "metadata": {
        "colab": {
          "base_uri": "https://localhost:8080/"
        },
        "id": "FjKnywx-9VBF",
        "outputId": "471a0d78-14f0-49d7-d5a9-9b00fade8305"
      },
      "outputs": [
        {
          "data": {
            "text/plain": [
              "False"
            ]
          },
          "execution_count": 10,
          "metadata": {},
          "output_type": "execute_result"
        }
      ],
      "source": [
        "list_of_leaves(t) == [2,4,5]"
      ]
    },
    {
      "cell_type": "code",
      "execution_count": 11,
      "metadata": {
        "id": "BvZbzWH49_pl"
      },
      "outputs": [],
      "source": [
        "def fib_tree(n):\n",
        "    if n == 0 or n == 1:\n",
        "      pass\n",
        "    else:\n",
        "      pass"
      ]
    },
    {
      "cell_type": "code",
      "execution_count": 12,
      "metadata": {
        "colab": {
          "base_uri": "https://localhost:8080/"
        },
        "id": "vjYVr2v1_1e0",
        "outputId": "3a241441-0493-44d7-8293-f35f57f9f607"
      },
      "outputs": [],
      "source": [
        "fib = fib_tree(5)\n",
        "fib\n",
        "# Fix the labeling system that is hardcoded above to dynamically given level\n",
        "# labels to this tree so it can be plotted - get_labels(t)"
      ]
    },
    {
      "cell_type": "code",
      "execution_count": 13,
      "metadata": {
        "colab": {
          "base_uri": "https://localhost:8080/"
        },
        "id": "HlA744R9_4P0",
        "outputId": "d52a3207-a667-4400-fed1-54b534f96451"
      },
      "outputs": [],
      "source": [
        "def counting_paths(t, total):\n",
        "  '''Count the # of paths from root to any node in the tree for which the labels\n",
        "  sum up to the total'''\n",
        "  if t.label == total: \n",
        "    pass\n",
        "  else:\n",
        "    pass\n",
        "  return "
      ]
    },
    {
      "cell_type": "code",
      "execution_count": 20,
      "metadata": {
        "colab": {
          "base_uri": "https://localhost:8080/"
        },
        "id": "TtRqJUivASO1",
        "outputId": "c6aada14-dda5-446a-9f21-97d2adb62fb4"
      },
      "outputs": [],
      "source": [
        "def tripler(t):\n",
        "  ''' Triple the value of the labels of each node in the tree'''\n",
        "  if t.is_leaf():\n",
        "    return Tree(t.label * 3)\n",
        "  else:\n",
        "    return Tree(t.label * 3, [tripler(branch) for branch in t.branches])\n"
      ]
    },
    {
      "cell_type": "code",
      "execution_count": null,
      "metadata": {
        "id": "LuUh4r4zBWQ9"
      },
      "outputs": [],
      "source": []
    }
  ],
  "metadata": {
    "colab": {
      "collapsed_sections": [],
      "name": "Tree Introduction",
      "provenance": []
    },
    "kernelspec": {
      "display_name": "Python 3",
      "name": "python3"
    },
    "language_info": {
      "codemirror_mode": {
        "name": "ipython",
        "version": 3
      },
      "file_extension": ".py",
      "mimetype": "text/x-python",
      "name": "python",
      "nbconvert_exporter": "python",
      "pygments_lexer": "ipython3",
      "version": "3.11.4"
    }
  },
  "nbformat": 4,
  "nbformat_minor": 0
}
